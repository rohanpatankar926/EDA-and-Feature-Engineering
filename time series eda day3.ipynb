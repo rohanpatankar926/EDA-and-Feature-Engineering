{
 "cells": [
  {
   "cell_type": "code",
   "execution_count": 1,
   "id": "f2886dab",
   "metadata": {},
   "outputs": [
    {
     "name": "stdout",
     "output_type": "stream",
     "text": [
      "Requirement already satisfied: pandas-datareader in c:\\users\\u\\anaconda3\\lib\\site-packages (0.10.0)\n",
      "Requirement already satisfied: pandas>=0.23 in c:\\users\\u\\anaconda3\\lib\\site-packages (from pandas-datareader) (1.2.4)\n",
      "Requirement already satisfied: lxml in c:\\users\\u\\anaconda3\\lib\\site-packages (from pandas-datareader) (4.6.3)\n",
      "Requirement already satisfied: requests>=2.19.0 in c:\\users\\u\\anaconda3\\lib\\site-packages (from pandas-datareader) (2.25.1)\n",
      "Requirement already satisfied: python-dateutil>=2.7.3 in c:\\users\\u\\anaconda3\\lib\\site-packages (from pandas>=0.23->pandas-datareader) (2.8.1)\n",
      "Requirement already satisfied: numpy>=1.16.5 in c:\\users\\u\\anaconda3\\lib\\site-packages (from pandas>=0.23->pandas-datareader) (1.20.1)\n",
      "Requirement already satisfied: pytz>=2017.3 in c:\\users\\u\\anaconda3\\lib\\site-packages (from pandas>=0.23->pandas-datareader) (2021.1)\n",
      "Requirement already satisfied: six>=1.5 in c:\\users\\u\\anaconda3\\lib\\site-packages (from python-dateutil>=2.7.3->pandas>=0.23->pandas-datareader) (1.15.0)\n",
      "Requirement already satisfied: urllib3<1.27,>=1.21.1 in c:\\users\\u\\anaconda3\\lib\\site-packages (from requests>=2.19.0->pandas-datareader) (1.26.4)Note: you may need to restart the kernel to use updated packages.\n",
      "Requirement already satisfied: certifi>=2017.4.17 in c:\\users\\u\\anaconda3\\lib\\site-packages (from requests>=2.19.0->pandas-datareader) (2020.12.5)\n",
      "Requirement already satisfied: chardet<5,>=3.0.2 in c:\\users\\u\\anaconda3\\lib\\site-packages (from requests>=2.19.0->pandas-datareader) (4.0.0)\n",
      "Requirement already satisfied: idna<3,>=2.5 in c:\\users\\u\\anaconda3\\lib\\site-packages (from requests>=2.19.0->pandas-datareader) (2.10)\n",
      "\n"
     ]
    }
   ],
   "source": [
    "pip install pandas-datareader"
   ]
  },
  {
   "cell_type": "code",
   "execution_count": 52,
   "id": "2c940aeb",
   "metadata": {},
   "outputs": [
    {
     "name": "stdout",
     "output_type": "stream",
     "text": [
      "Requirement already satisfied: plotly in c:\\users\\u\\anaconda3\\lib\\site-packages (5.5.0)\n",
      "Requirement already satisfied: six in c:\\users\\u\\anaconda3\\lib\\site-packages (from plotly) (1.15.0)\n",
      "Requirement already satisfied: tenacity>=6.2.0 in c:\\users\\u\\anaconda3\\lib\\site-packages (from plotly) (8.0.1)\n",
      "Note: you may need to restart the kernel to use updated packages.\n"
     ]
    }
   ],
   "source": [
    "pip install plotly"
   ]
  },
  {
   "cell_type": "code",
   "execution_count": 1,
   "id": "fa27d720",
   "metadata": {},
   "outputs": [],
   "source": [
    "import pandas_datareader as pdr\n",
    "import pandas as pd\n",
    "from datetime import datetime\n",
    "import matplotlib.pyplot as plt"
   ]
  },
  {
   "cell_type": "code",
   "execution_count": 2,
   "id": "f1035ee5",
   "metadata": {},
   "outputs": [],
   "source": [
    "data=pdr.get_data_yahoo(\"TSLA\")"
   ]
  },
  {
   "cell_type": "code",
   "execution_count": 3,
   "id": "11108d2a",
   "metadata": {},
   "outputs": [
    {
     "data": {
      "text/html": [
       "<div>\n",
       "<style scoped>\n",
       "    .dataframe tbody tr th:only-of-type {\n",
       "        vertical-align: middle;\n",
       "    }\n",
       "\n",
       "    .dataframe tbody tr th {\n",
       "        vertical-align: top;\n",
       "    }\n",
       "\n",
       "    .dataframe thead th {\n",
       "        text-align: right;\n",
       "    }\n",
       "</style>\n",
       "<table border=\"1\" class=\"dataframe\">\n",
       "  <thead>\n",
       "    <tr style=\"text-align: right;\">\n",
       "      <th></th>\n",
       "      <th>High</th>\n",
       "      <th>Low</th>\n",
       "      <th>Open</th>\n",
       "      <th>Close</th>\n",
       "      <th>Volume</th>\n",
       "      <th>Adj Close</th>\n",
       "    </tr>\n",
       "    <tr>\n",
       "      <th>Date</th>\n",
       "      <th></th>\n",
       "      <th></th>\n",
       "      <th></th>\n",
       "      <th></th>\n",
       "      <th></th>\n",
       "      <th></th>\n",
       "    </tr>\n",
       "  </thead>\n",
       "  <tbody>\n",
       "    <tr>\n",
       "      <th>2017-02-27</th>\n",
       "      <td>49.672001</td>\n",
       "      <td>48.402000</td>\n",
       "      <td>49.633999</td>\n",
       "      <td>49.245998</td>\n",
       "      <td>57304000.0</td>\n",
       "      <td>49.245998</td>\n",
       "    </tr>\n",
       "    <tr>\n",
       "      <th>2017-02-28</th>\n",
       "      <td>50.200001</td>\n",
       "      <td>48.779999</td>\n",
       "      <td>48.838001</td>\n",
       "      <td>49.998001</td>\n",
       "      <td>30390500.0</td>\n",
       "      <td>49.998001</td>\n",
       "    </tr>\n",
       "    <tr>\n",
       "      <th>2017-03-01</th>\n",
       "      <td>50.970001</td>\n",
       "      <td>49.821999</td>\n",
       "      <td>50.835999</td>\n",
       "      <td>50.004002</td>\n",
       "      <td>24047500.0</td>\n",
       "      <td>50.004002</td>\n",
       "    </tr>\n",
       "    <tr>\n",
       "      <th>2017-03-02</th>\n",
       "      <td>50.655998</td>\n",
       "      <td>49.653999</td>\n",
       "      <td>49.942001</td>\n",
       "      <td>50.096001</td>\n",
       "      <td>16759000.0</td>\n",
       "      <td>50.096001</td>\n",
       "    </tr>\n",
       "    <tr>\n",
       "      <th>2017-03-03</th>\n",
       "      <td>50.380001</td>\n",
       "      <td>49.799999</td>\n",
       "      <td>50.147999</td>\n",
       "      <td>50.313999</td>\n",
       "      <td>14597000.0</td>\n",
       "      <td>50.313999</td>\n",
       "    </tr>\n",
       "  </tbody>\n",
       "</table>\n",
       "</div>"
      ],
      "text/plain": [
       "                 High        Low       Open      Close      Volume  Adj Close\n",
       "Date                                                                         \n",
       "2017-02-27  49.672001  48.402000  49.633999  49.245998  57304000.0  49.245998\n",
       "2017-02-28  50.200001  48.779999  48.838001  49.998001  30390500.0  49.998001\n",
       "2017-03-01  50.970001  49.821999  50.835999  50.004002  24047500.0  50.004002\n",
       "2017-03-02  50.655998  49.653999  49.942001  50.096001  16759000.0  50.096001\n",
       "2017-03-03  50.380001  49.799999  50.147999  50.313999  14597000.0  50.313999"
      ]
     },
     "execution_count": 3,
     "metadata": {},
     "output_type": "execute_result"
    }
   ],
   "source": [
    "data.head()"
   ]
  },
  {
   "cell_type": "code",
   "execution_count": 4,
   "id": "aa6609af",
   "metadata": {},
   "outputs": [
    {
     "data": {
      "text/html": [
       "<div>\n",
       "<style scoped>\n",
       "    .dataframe tbody tr th:only-of-type {\n",
       "        vertical-align: middle;\n",
       "    }\n",
       "\n",
       "    .dataframe tbody tr th {\n",
       "        vertical-align: top;\n",
       "    }\n",
       "\n",
       "    .dataframe thead th {\n",
       "        text-align: right;\n",
       "    }\n",
       "</style>\n",
       "<table border=\"1\" class=\"dataframe\">\n",
       "  <thead>\n",
       "    <tr style=\"text-align: right;\">\n",
       "      <th></th>\n",
       "      <th>High</th>\n",
       "      <th>Low</th>\n",
       "      <th>Open</th>\n",
       "      <th>Close</th>\n",
       "      <th>Volume</th>\n",
       "      <th>Adj Close</th>\n",
       "    </tr>\n",
       "    <tr>\n",
       "      <th>Date</th>\n",
       "      <th></th>\n",
       "      <th></th>\n",
       "      <th></th>\n",
       "      <th></th>\n",
       "      <th></th>\n",
       "      <th></th>\n",
       "    </tr>\n",
       "  </thead>\n",
       "  <tbody>\n",
       "    <tr>\n",
       "      <th>2022-02-18</th>\n",
       "      <td>886.869995</td>\n",
       "      <td>837.609985</td>\n",
       "      <td>886.000000</td>\n",
       "      <td>856.979980</td>\n",
       "      <td>22710500.0</td>\n",
       "      <td>856.979980</td>\n",
       "    </tr>\n",
       "    <tr>\n",
       "      <th>2022-02-22</th>\n",
       "      <td>856.729980</td>\n",
       "      <td>801.099976</td>\n",
       "      <td>834.130005</td>\n",
       "      <td>821.530029</td>\n",
       "      <td>27762700.0</td>\n",
       "      <td>821.530029</td>\n",
       "    </tr>\n",
       "    <tr>\n",
       "      <th>2022-02-23</th>\n",
       "      <td>835.299988</td>\n",
       "      <td>760.559998</td>\n",
       "      <td>830.429993</td>\n",
       "      <td>764.039978</td>\n",
       "      <td>31752300.0</td>\n",
       "      <td>764.039978</td>\n",
       "    </tr>\n",
       "    <tr>\n",
       "      <th>2022-02-24</th>\n",
       "      <td>802.479980</td>\n",
       "      <td>700.000000</td>\n",
       "      <td>700.390015</td>\n",
       "      <td>800.770020</td>\n",
       "      <td>44876700.0</td>\n",
       "      <td>800.770020</td>\n",
       "    </tr>\n",
       "    <tr>\n",
       "      <th>2022-02-25</th>\n",
       "      <td>819.460815</td>\n",
       "      <td>782.400513</td>\n",
       "      <td>809.229980</td>\n",
       "      <td>802.560120</td>\n",
       "      <td>16816567.0</td>\n",
       "      <td>802.560120</td>\n",
       "    </tr>\n",
       "  </tbody>\n",
       "</table>\n",
       "</div>"
      ],
      "text/plain": [
       "                  High         Low        Open       Close      Volume  \\\n",
       "Date                                                                     \n",
       "2022-02-18  886.869995  837.609985  886.000000  856.979980  22710500.0   \n",
       "2022-02-22  856.729980  801.099976  834.130005  821.530029  27762700.0   \n",
       "2022-02-23  835.299988  760.559998  830.429993  764.039978  31752300.0   \n",
       "2022-02-24  802.479980  700.000000  700.390015  800.770020  44876700.0   \n",
       "2022-02-25  819.460815  782.400513  809.229980  802.560120  16816567.0   \n",
       "\n",
       "             Adj Close  \n",
       "Date                    \n",
       "2022-02-18  856.979980  \n",
       "2022-02-22  821.530029  \n",
       "2022-02-23  764.039978  \n",
       "2022-02-24  800.770020  \n",
       "2022-02-25  802.560120  "
      ]
     },
     "execution_count": 4,
     "metadata": {},
     "output_type": "execute_result"
    }
   ],
   "source": [
    "data.tail()"
   ]
  },
  {
   "cell_type": "code",
   "execution_count": 5,
   "id": "64fbc137",
   "metadata": {},
   "outputs": [
    {
     "data": {
      "text/plain": [
       "(1260, 6)"
      ]
     },
     "execution_count": 5,
     "metadata": {},
     "output_type": "execute_result"
    }
   ],
   "source": [
    "data.shape"
   ]
  },
  {
   "cell_type": "code",
   "execution_count": 6,
   "id": "93a09c44",
   "metadata": {},
   "outputs": [
    {
     "data": {
      "text/plain": [
       "[]"
      ]
     },
     "execution_count": 6,
     "metadata": {},
     "output_type": "execute_result"
    }
   ],
   "source": [
    "[col for col in data.columns if data.columns.isna().sum()>1]"
   ]
  },
  {
   "cell_type": "code",
   "execution_count": 7,
   "id": "f686bf2e",
   "metadata": {},
   "outputs": [
    {
     "name": "stdout",
     "output_type": "stream",
     "text": [
      "<class 'pandas.core.frame.DataFrame'>\n",
      "DatetimeIndex: 1260 entries, 2017-02-27 to 2022-02-25\n",
      "Data columns (total 6 columns):\n",
      " #   Column     Non-Null Count  Dtype  \n",
      "---  ------     --------------  -----  \n",
      " 0   High       1260 non-null   float64\n",
      " 1   Low        1260 non-null   float64\n",
      " 2   Open       1260 non-null   float64\n",
      " 3   Close      1260 non-null   float64\n",
      " 4   Volume     1260 non-null   float64\n",
      " 5   Adj Close  1260 non-null   float64\n",
      "dtypes: float64(6)\n",
      "memory usage: 68.9 KB\n"
     ]
    }
   ],
   "source": [
    "data.info()"
   ]
  },
  {
   "cell_type": "code",
   "execution_count": 8,
   "id": "108b047d",
   "metadata": {},
   "outputs": [
    {
     "data": {
      "text/plain": [
       "<AxesSubplot:xlabel='Date'>"
      ]
     },
     "execution_count": 8,
     "metadata": {},
     "output_type": "execute_result"
    },
    {
     "data": {
      "image/png": "[encoded data removed]",
      "text/plain": [
       "<Figure size 864x360 with 1 Axes>"
      ]
     },
     "metadata": {
      "needs_background": "light"
     },
     "output_type": "display_data"
    }
   ],
   "source": [
    "data[\"High\"].plot(figsize=(12,5),c=\"green\")"
   ]
  },
  {
   "cell_type": "code",
   "execution_count": 9,
   "id": "d0b4dc03",
   "metadata": {},
   "outputs": [
    {
     "data": {
      "text/plain": [
       "<AxesSubplot:xlabel='Date'>"
      ]
     },
     "execution_count": 9,
     "metadata": {},
     "output_type": "execute_result"
    },
    {
     "data": {
      "image/png": "[encoded data removed]",
      "text/plain": [
       "<Figure size 864x360 with 1 Axes>"
      ]
     },
     "metadata": {
      "needs_background": "light"
     },
     "output_type": "display_data"
    }
   ],
   "source": [
    "# xlimit and ylimit\n",
    "data[\"High\"].plot(xlim=[\"2020-01-01\",\"2022-01-01\"],figsize=(12,5),c=\"green\",ls=\"--\")"
   ]
  },
  {
   "cell_type": "code",
   "execution_count": 10,
   "id": "809760a6",
   "metadata": {},
   "outputs": [],
   "source": [
    "index=data.loc[\"2020-01-01\":\"2020-10-01\"].index\n",
    "share_open=data.loc[\"2020-01-01\":\"2020-10-01\"][\"Open\"]"
   ]
  },
  {
   "cell_type": "code",
   "execution_count": 11,
   "id": "a5e84037",
   "metadata": {},
   "outputs": [
    {
     "data": {
      "text/plain": [
       "Date\n",
       "2020-01-02     84.900002\n",
       "2020-01-03     88.099998\n",
       "2020-01-06     88.094002\n",
       "2020-01-07     92.279999\n",
       "2020-01-08     94.739998\n",
       "                 ...    \n",
       "2020-09-25    393.470001\n",
       "2020-09-28    424.619995\n",
       "2020-09-29    416.000000\n",
       "2020-09-30    421.320007\n",
       "2020-10-01    440.760010\n",
       "Name: Open, Length: 190, dtype: float64"
      ]
     },
     "execution_count": 11,
     "metadata": {},
     "output_type": "execute_result"
    }
   ],
   "source": [
    "share_open"
   ]
  },
  {
   "cell_type": "code",
   "execution_count": 13,
   "id": "34daf6d5",
   "metadata": {},
   "outputs": [
    {
     "data": {
      "image/png": "[encoded data removed]",
      "text/plain": [
       "<Figure size 432x288 with 1 Axes>"
      ]
     },
     "metadata": {
      "needs_background": "light"
     },
     "output_type": "display_data"
    }
   ],
   "source": [
    "fig,ax=plt.subplots()\n",
    "ax.plot(index,share_open)\n",
    "plt.tight_layout()\n",
    "fig.autofmt_xdate()#prevent overlapping"
   ]
  },
  {
   "cell_type": "markdown",
   "id": "0f36212e",
   "metadata": {},
   "source": [
    "### Date Time Index"
   ]
  },
  {
   "cell_type": "code",
   "execution_count": 15,
   "id": "6b2df62a",
   "metadata": {},
   "outputs": [],
   "source": [
    "data.reset_index(inplace=True)"
   ]
  },
  {
   "cell_type": "code",
   "execution_count": 16,
   "id": "482ad12f",
   "metadata": {},
   "outputs": [
    {
     "name": "stdout",
     "output_type": "stream",
     "text": [
      "<class 'pandas.core.frame.DataFrame'>\n",
      "RangeIndex: 1260 entries, 0 to 1259\n",
      "Data columns (total 7 columns):\n",
      " #   Column     Non-Null Count  Dtype         \n",
      "---  ------     --------------  -----         \n",
      " 0   Date       1260 non-null   datetime64[ns]\n",
      " 1   High       1260 non-null   float64       \n",
      " 2   Low        1260 non-null   float64       \n",
      " 3   Open       1260 non-null   float64       \n",
      " 4   Close      1260 non-null   float64       \n",
      " 5   Volume     1260 non-null   float64       \n",
      " 6   Adj Close  1260 non-null   float64       \n",
      "dtypes: datetime64[ns](1), float64(6)\n",
      "memory usage: 69.0 KB\n"
     ]
    }
   ],
   "source": [
    "data.info()"
   ]
  },
  {
   "cell_type": "code",
   "execution_count": 17,
   "id": "7217c60e",
   "metadata": {},
   "outputs": [
    {
     "data": {
      "text/html": [
       "<div>\n",
       "<style scoped>\n",
       "    .dataframe tbody tr th:only-of-type {\n",
       "        vertical-align: middle;\n",
       "    }\n",
       "\n",
       "    .dataframe tbody tr th {\n",
       "        vertical-align: top;\n",
       "    }\n",
       "\n",
       "    .dataframe thead th {\n",
       "        text-align: right;\n",
       "    }\n",
       "</style>\n",
       "<table border=\"1\" class=\"dataframe\">\n",
       "  <thead>\n",
       "    <tr style=\"text-align: right;\">\n",
       "      <th></th>\n",
       "      <th>Date</th>\n",
       "      <th>High</th>\n",
       "      <th>Low</th>\n",
       "      <th>Open</th>\n",
       "      <th>Close</th>\n",
       "      <th>Volume</th>\n",
       "      <th>Adj Close</th>\n",
       "    </tr>\n",
       "  </thead>\n",
       "  <tbody>\n",
       "    <tr>\n",
       "      <th>0</th>\n",
       "      <td>2017-02-27</td>\n",
       "      <td>49.672001</td>\n",
       "      <td>48.402000</td>\n",
       "      <td>49.633999</td>\n",
       "      <td>49.245998</td>\n",
       "      <td>57304000.0</td>\n",
       "      <td>49.245998</td>\n",
       "    </tr>\n",
       "    <tr>\n",
       "      <th>1</th>\n",
       "      <td>2017-02-28</td>\n",
       "      <td>50.200001</td>\n",
       "      <td>48.779999</td>\n",
       "      <td>48.838001</td>\n",
       "      <td>49.998001</td>\n",
       "      <td>30390500.0</td>\n",
       "      <td>49.998001</td>\n",
       "    </tr>\n",
       "    <tr>\n",
       "      <th>2</th>\n",
       "      <td>2017-03-01</td>\n",
       "      <td>50.970001</td>\n",
       "      <td>49.821999</td>\n",
       "      <td>50.835999</td>\n",
       "      <td>50.004002</td>\n",
       "      <td>24047500.0</td>\n",
       "      <td>50.004002</td>\n",
       "    </tr>\n",
       "    <tr>\n",
       "      <th>3</th>\n",
       "      <td>2017-03-02</td>\n",
       "      <td>50.655998</td>\n",
       "      <td>49.653999</td>\n",
       "      <td>49.942001</td>\n",
       "      <td>50.096001</td>\n",
       "      <td>16759000.0</td>\n",
       "      <td>50.096001</td>\n",
       "    </tr>\n",
       "    <tr>\n",
       "      <th>4</th>\n",
       "      <td>2017-03-03</td>\n",
       "      <td>50.380001</td>\n",
       "      <td>49.799999</td>\n",
       "      <td>50.147999</td>\n",
       "      <td>50.313999</td>\n",
       "      <td>14597000.0</td>\n",
       "      <td>50.313999</td>\n",
       "    </tr>\n",
       "  </tbody>\n",
       "</table>\n",
       "</div>"
      ],
      "text/plain": [
       "        Date       High        Low       Open      Close      Volume  \\\n",
       "0 2017-02-27  49.672001  48.402000  49.633999  49.245998  57304000.0   \n",
       "1 2017-02-28  50.200001  48.779999  48.838001  49.998001  30390500.0   \n",
       "2 2017-03-01  50.970001  49.821999  50.835999  50.004002  24047500.0   \n",
       "3 2017-03-02  50.655998  49.653999  49.942001  50.096001  16759000.0   \n",
       "4 2017-03-03  50.380001  49.799999  50.147999  50.313999  14597000.0   \n",
       "\n",
       "   Adj Close  \n",
       "0  49.245998  \n",
       "1  49.998001  \n",
       "2  50.004002  \n",
       "3  50.096001  \n",
       "4  50.313999  "
      ]
     },
     "execution_count": 17,
     "metadata": {},
     "output_type": "execute_result"
    }
   ],
   "source": [
    "data.head()"
   ]
  },
  {
   "cell_type": "code",
   "execution_count": 24,
   "id": "c56cd908",
   "metadata": {},
   "outputs": [],
   "source": [
    "data.set_index([\"Date\"],drop=True,inplace=True)"
   ]
  },
  {
   "cell_type": "code",
   "execution_count": 25,
   "id": "cd3e0074",
   "metadata": {},
   "outputs": [
    {
     "data": {
      "text/html": [
       "<div>\n",
       "<style scoped>\n",
       "    .dataframe tbody tr th:only-of-type {\n",
       "        vertical-align: middle;\n",
       "    }\n",
       "\n",
       "    .dataframe tbody tr th {\n",
       "        vertical-align: top;\n",
       "    }\n",
       "\n",
       "    .dataframe thead th {\n",
       "        text-align: right;\n",
       "    }\n",
       "</style>\n",
       "<table border=\"1\" class=\"dataframe\">\n",
       "  <thead>\n",
       "    <tr style=\"text-align: right;\">\n",
       "      <th></th>\n",
       "      <th>High</th>\n",
       "      <th>Low</th>\n",
       "      <th>Open</th>\n",
       "      <th>Close</th>\n",
       "      <th>Volume</th>\n",
       "      <th>Adj Close</th>\n",
       "    </tr>\n",
       "    <tr>\n",
       "      <th>Date</th>\n",
       "      <th></th>\n",
       "      <th></th>\n",
       "      <th></th>\n",
       "      <th></th>\n",
       "      <th></th>\n",
       "      <th></th>\n",
       "    </tr>\n",
       "  </thead>\n",
       "  <tbody>\n",
       "    <tr>\n",
       "      <th>2017-02-27</th>\n",
       "      <td>49.672001</td>\n",
       "      <td>48.402000</td>\n",
       "      <td>49.633999</td>\n",
       "      <td>49.245998</td>\n",
       "      <td>57304000.0</td>\n",
       "      <td>49.245998</td>\n",
       "    </tr>\n",
       "    <tr>\n",
       "      <th>2017-02-28</th>\n",
       "      <td>50.200001</td>\n",
       "      <td>48.779999</td>\n",
       "      <td>48.838001</td>\n",
       "      <td>49.998001</td>\n",
       "      <td>30390500.0</td>\n",
       "      <td>49.998001</td>\n",
       "    </tr>\n",
       "    <tr>\n",
       "      <th>2017-03-01</th>\n",
       "      <td>50.970001</td>\n",
       "      <td>49.821999</td>\n",
       "      <td>50.835999</td>\n",
       "      <td>50.004002</td>\n",
       "      <td>24047500.0</td>\n",
       "      <td>50.004002</td>\n",
       "    </tr>\n",
       "    <tr>\n",
       "      <th>2017-03-02</th>\n",
       "      <td>50.655998</td>\n",
       "      <td>49.653999</td>\n",
       "      <td>49.942001</td>\n",
       "      <td>50.096001</td>\n",
       "      <td>16759000.0</td>\n",
       "      <td>50.096001</td>\n",
       "    </tr>\n",
       "    <tr>\n",
       "      <th>2017-03-03</th>\n",
       "      <td>50.380001</td>\n",
       "      <td>49.799999</td>\n",
       "      <td>50.147999</td>\n",
       "      <td>50.313999</td>\n",
       "      <td>14597000.0</td>\n",
       "      <td>50.313999</td>\n",
       "    </tr>\n",
       "  </tbody>\n",
       "</table>\n",
       "</div>"
      ],
      "text/plain": [
       "                 High        Low       Open      Close      Volume  Adj Close\n",
       "Date                                                                         \n",
       "2017-02-27  49.672001  48.402000  49.633999  49.245998  57304000.0  49.245998\n",
       "2017-02-28  50.200001  48.779999  48.838001  49.998001  30390500.0  49.998001\n",
       "2017-03-01  50.970001  49.821999  50.835999  50.004002  24047500.0  50.004002\n",
       "2017-03-02  50.655998  49.653999  49.942001  50.096001  16759000.0  50.096001\n",
       "2017-03-03  50.380001  49.799999  50.147999  50.313999  14597000.0  50.313999"
      ]
     },
     "execution_count": 25,
     "metadata": {},
     "output_type": "execute_result"
    }
   ],
   "source": [
    "data.head()"
   ]
  },
  {
   "cell_type": "code",
   "execution_count": 26,
   "id": "fdb90894",
   "metadata": {},
   "outputs": [],
   "source": [
    "from datetime import datetime"
   ]
  },
  {
   "cell_type": "code",
   "execution_count": 27,
   "id": "b9b62eae",
   "metadata": {},
   "outputs": [
    {
     "data": {
      "text/plain": [
       "datetime.datetime(2021, 11, 11, 0, 0)"
      ]
     },
     "execution_count": 27,
     "metadata": {},
     "output_type": "execute_result"
    }
   ],
   "source": [
    "datetime(2021,11,11)"
   ]
  },
  {
   "cell_type": "code",
   "execution_count": 32,
   "id": "4e56671f",
   "metadata": {},
   "outputs": [
    {
     "data": {
      "text/plain": [
       "datetime.datetime(2022, 2, 26, 0, 1, 16, 157114)"
      ]
     },
     "execution_count": 32,
     "metadata": {},
     "output_type": "execute_result"
    }
   ],
   "source": [
    "datetime.now()"
   ]
  },
  {
   "cell_type": "code",
   "execution_count": 34,
   "id": "3363b3e6",
   "metadata": {},
   "outputs": [],
   "source": [
    "def add_num(n1,n2):\n",
    "    return n1+n2"
   ]
  },
  {
   "cell_type": "code",
   "execution_count": 55,
   "id": "4d6549ce",
   "metadata": {},
   "outputs": [
    {
     "name": "stdout",
     "output_type": "stream",
     "text": [
      "0:00:00.000988\n"
     ]
    }
   ],
   "source": [
    "n1=10\n",
    "n2=20\n",
    "start_time=datetime.now()\n",
    "add_num(n1,n1)\n",
    "end_time=datetime.now()\n",
    "print(end_time-start_time)"
   ]
  },
  {
   "cell_type": "code",
   "execution_count": 63,
   "id": "85ac3925",
   "metadata": {},
   "outputs": [
    {
     "data": {
      "text/plain": [
       "datetime.date(2022, 2, 26)"
      ]
     },
     "execution_count": 63,
     "metadata": {},
     "output_type": "execute_result"
    }
   ],
   "source": [
    "date=datetime.now()\n",
    "date.date()"
   ]
  },
  {
   "cell_type": "code",
   "execution_count": 64,
   "id": "248491d2",
   "metadata": {},
   "outputs": [
    {
     "data": {
      "text/plain": [
       "5"
      ]
     },
     "execution_count": 64,
     "metadata": {},
     "output_type": "execute_result"
    }
   ],
   "source": [
    "date.weekday()"
   ]
  },
  {
   "cell_type": "code",
   "execution_count": 65,
   "id": "de0815a6",
   "metadata": {},
   "outputs": [
    {
     "data": {
      "text/plain": [
       "2022"
      ]
     },
     "execution_count": 65,
     "metadata": {},
     "output_type": "execute_result"
    }
   ],
   "source": [
    "date.year"
   ]
  },
  {
   "cell_type": "markdown",
   "id": "3e117c05",
   "metadata": {},
   "source": [
    "### Time Resampling"
   ]
  },
  {
   "cell_type": "code",
   "execution_count": 66,
   "id": "ce7eafc3",
   "metadata": {},
   "outputs": [
    {
     "data": {
      "text/html": [
       "<div>\n",
       "<style scoped>\n",
       "    .dataframe tbody tr th:only-of-type {\n",
       "        vertical-align: middle;\n",
       "    }\n",
       "\n",
       "    .dataframe tbody tr th {\n",
       "        vertical-align: top;\n",
       "    }\n",
       "\n",
       "    .dataframe thead th {\n",
       "        text-align: right;\n",
       "    }\n",
       "</style>\n",
       "<table border=\"1\" class=\"dataframe\">\n",
       "  <thead>\n",
       "    <tr style=\"text-align: right;\">\n",
       "      <th></th>\n",
       "      <th>High</th>\n",
       "      <th>Low</th>\n",
       "      <th>Open</th>\n",
       "      <th>Close</th>\n",
       "      <th>Volume</th>\n",
       "      <th>Adj Close</th>\n",
       "    </tr>\n",
       "    <tr>\n",
       "      <th>Date</th>\n",
       "      <th></th>\n",
       "      <th></th>\n",
       "      <th></th>\n",
       "      <th></th>\n",
       "      <th></th>\n",
       "      <th></th>\n",
       "    </tr>\n",
       "  </thead>\n",
       "  <tbody>\n",
       "    <tr>\n",
       "      <th>2017-02-27</th>\n",
       "      <td>49.672001</td>\n",
       "      <td>48.402000</td>\n",
       "      <td>49.633999</td>\n",
       "      <td>49.245998</td>\n",
       "      <td>57304000.0</td>\n",
       "      <td>49.245998</td>\n",
       "    </tr>\n",
       "    <tr>\n",
       "      <th>2017-02-28</th>\n",
       "      <td>50.200001</td>\n",
       "      <td>48.779999</td>\n",
       "      <td>48.838001</td>\n",
       "      <td>49.998001</td>\n",
       "      <td>30390500.0</td>\n",
       "      <td>49.998001</td>\n",
       "    </tr>\n",
       "    <tr>\n",
       "      <th>2017-03-01</th>\n",
       "      <td>50.970001</td>\n",
       "      <td>49.821999</td>\n",
       "      <td>50.835999</td>\n",
       "      <td>50.004002</td>\n",
       "      <td>24047500.0</td>\n",
       "      <td>50.004002</td>\n",
       "    </tr>\n",
       "    <tr>\n",
       "      <th>2017-03-02</th>\n",
       "      <td>50.655998</td>\n",
       "      <td>49.653999</td>\n",
       "      <td>49.942001</td>\n",
       "      <td>50.096001</td>\n",
       "      <td>16759000.0</td>\n",
       "      <td>50.096001</td>\n",
       "    </tr>\n",
       "    <tr>\n",
       "      <th>2017-03-03</th>\n",
       "      <td>50.380001</td>\n",
       "      <td>49.799999</td>\n",
       "      <td>50.147999</td>\n",
       "      <td>50.313999</td>\n",
       "      <td>14597000.0</td>\n",
       "      <td>50.313999</td>\n",
       "    </tr>\n",
       "  </tbody>\n",
       "</table>\n",
       "</div>"
      ],
      "text/plain": [
       "                 High        Low       Open      Close      Volume  Adj Close\n",
       "Date                                                                         \n",
       "2017-02-27  49.672001  48.402000  49.633999  49.245998  57304000.0  49.245998\n",
       "2017-02-28  50.200001  48.779999  48.838001  49.998001  30390500.0  49.998001\n",
       "2017-03-01  50.970001  49.821999  50.835999  50.004002  24047500.0  50.004002\n",
       "2017-03-02  50.655998  49.653999  49.942001  50.096001  16759000.0  50.096001\n",
       "2017-03-03  50.380001  49.799999  50.147999  50.313999  14597000.0  50.313999"
      ]
     },
     "execution_count": 66,
     "metadata": {},
     "output_type": "execute_result"
    }
   ],
   "source": [
    "data.head()"
   ]
  },
  {
   "cell_type": "code",
   "execution_count": 75,
   "id": "3bacdca6",
   "metadata": {},
   "outputs": [
    {
     "data": {
      "text/html": [
       "<div>\n",
       "<style scoped>\n",
       "    .dataframe tbody tr th:only-of-type {\n",
       "        vertical-align: middle;\n",
       "    }\n",
       "\n",
       "    .dataframe tbody tr th {\n",
       "        vertical-align: top;\n",
       "    }\n",
       "\n",
       "    .dataframe thead th {\n",
       "        text-align: right;\n",
       "    }\n",
       "</style>\n",
       "<table border=\"1\" class=\"dataframe\">\n",
       "  <thead>\n",
       "    <tr style=\"text-align: right;\">\n",
       "      <th></th>\n",
       "      <th>High</th>\n",
       "      <th>Low</th>\n",
       "      <th>Open</th>\n",
       "      <th>Close</th>\n",
       "      <th>Volume</th>\n",
       "      <th>Adj Close</th>\n",
       "    </tr>\n",
       "    <tr>\n",
       "      <th>Date</th>\n",
       "      <th></th>\n",
       "      <th></th>\n",
       "      <th></th>\n",
       "      <th></th>\n",
       "      <th></th>\n",
       "      <th></th>\n",
       "    </tr>\n",
       "  </thead>\n",
       "  <tbody>\n",
       "    <tr>\n",
       "      <th>2017-12-31</th>\n",
       "      <td>77.921997</td>\n",
       "      <td>75.870003</td>\n",
       "      <td>77.337997</td>\n",
       "      <td>77.000000</td>\n",
       "      <td>98957000.0</td>\n",
       "      <td>77.000000</td>\n",
       "    </tr>\n",
       "    <tr>\n",
       "      <th>2018-12-31</th>\n",
       "      <td>77.491997</td>\n",
       "      <td>73.424004</td>\n",
       "      <td>75.000000</td>\n",
       "      <td>75.914001</td>\n",
       "      <td>168248500.0</td>\n",
       "      <td>75.914001</td>\n",
       "    </tr>\n",
       "    <tr>\n",
       "      <th>2019-12-31</th>\n",
       "      <td>87.061996</td>\n",
       "      <td>85.269997</td>\n",
       "      <td>87.000000</td>\n",
       "      <td>86.188004</td>\n",
       "      <td>150030500.0</td>\n",
       "      <td>86.188004</td>\n",
       "    </tr>\n",
       "    <tr>\n",
       "      <th>2020-12-31</th>\n",
       "      <td>718.719971</td>\n",
       "      <td>691.119995</td>\n",
       "      <td>699.989990</td>\n",
       "      <td>705.669983</td>\n",
       "      <td>304694000.0</td>\n",
       "      <td>705.669983</td>\n",
       "    </tr>\n",
       "    <tr>\n",
       "      <th>2021-12-31</th>\n",
       "      <td>1243.489990</td>\n",
       "      <td>1217.000000</td>\n",
       "      <td>1234.410034</td>\n",
       "      <td>1229.910034</td>\n",
       "      <td>89396500.0</td>\n",
       "      <td>1229.910034</td>\n",
       "    </tr>\n",
       "    <tr>\n",
       "      <th>2022-12-31</th>\n",
       "      <td>1208.000000</td>\n",
       "      <td>1136.040039</td>\n",
       "      <td>1189.550049</td>\n",
       "      <td>1199.780029</td>\n",
       "      <td>50521900.0</td>\n",
       "      <td>1199.780029</td>\n",
       "    </tr>\n",
       "  </tbody>\n",
       "</table>\n",
       "</div>"
      ],
      "text/plain": [
       "                   High          Low         Open        Close       Volume  \\\n",
       "Date                                                                          \n",
       "2017-12-31    77.921997    75.870003    77.337997    77.000000   98957000.0   \n",
       "2018-12-31    77.491997    73.424004    75.000000    75.914001  168248500.0   \n",
       "2019-12-31    87.061996    85.269997    87.000000    86.188004  150030500.0   \n",
       "2020-12-31   718.719971   691.119995   699.989990   705.669983  304694000.0   \n",
       "2021-12-31  1243.489990  1217.000000  1234.410034  1229.910034   89396500.0   \n",
       "2022-12-31  1208.000000  1136.040039  1189.550049  1199.780029   50521900.0   \n",
       "\n",
       "              Adj Close  \n",
       "Date                     \n",
       "2017-12-31    77.000000  \n",
       "2018-12-31    75.914001  \n",
       "2019-12-31    86.188004  \n",
       "2020-12-31   705.669983  \n",
       "2021-12-31  1229.910034  \n",
       "2022-12-31  1199.780029  "
      ]
     },
     "execution_count": 75,
     "metadata": {},
     "output_type": "execute_result"
    }
   ],
   "source": [
    "#A--> year end frequency\n",
    "data.resample(rule=\"A\").max()"
   ]
  },
  {
   "cell_type": "code",
   "execution_count": 74,
   "id": "6b7cff27",
   "metadata": {},
   "outputs": [
    {
     "data": {
      "text/plain": [
       "<AxesSubplot:xlabel='Date'>"
      ]
     },
     "execution_count": 74,
     "metadata": {},
     "output_type": "execute_result"
    },
    {
     "data": {
      "image/png": "[encoded data removed]",
      "text/plain": [
       "<Figure size 432x288 with 1 Axes>"
      ]
     },
     "metadata": {
      "needs_background": "light"
     },
     "output_type": "display_data"
    }
   ],
   "source": [
    "data.resample(rule=\"A\").max()[\"Open\"].plot()"
   ]
  },
  {
   "cell_type": "code",
   "execution_count": 78,
   "id": "f0fc3c4a",
   "metadata": {},
   "outputs": [
    {
     "data": {
      "text/plain": [
       "<AxesSubplot:xlabel='Date'>"
      ]
     },
     "execution_count": 78,
     "metadata": {},
     "output_type": "execute_result"
    },
    {
     "data": {
      "image/png": "[encoded data removed]",
      "text/plain": [
       "<Figure size 432x288 with 1 Axes>"
      ]
     },
     "metadata": {
      "needs_background": "light"
     },
     "output_type": "display_data"
    }
   ],
   "source": [
    "#Quarterly start frequncy\n",
    "data.resample(rule=\"QS\")[\"High\"].max().plot()"
   ]
  },
  {
   "cell_type": "code",
   "execution_count": 81,
   "id": "cb8a7149",
   "metadata": {},
   "outputs": [
    {
     "data": {
      "text/html": [
       "<div>\n",
       "<style scoped>\n",
       "    .dataframe tbody tr th:only-of-type {\n",
       "        vertical-align: middle;\n",
       "    }\n",
       "\n",
       "    .dataframe tbody tr th {\n",
       "        vertical-align: top;\n",
       "    }\n",
       "\n",
       "    .dataframe thead th {\n",
       "        text-align: right;\n",
       "    }\n",
       "</style>\n",
       "<table border=\"1\" class=\"dataframe\">\n",
       "  <thead>\n",
       "    <tr style=\"text-align: right;\">\n",
       "      <th></th>\n",
       "      <th>High</th>\n",
       "      <th>Low</th>\n",
       "      <th>Open</th>\n",
       "      <th>Close</th>\n",
       "      <th>Volume</th>\n",
       "      <th>Adj Close</th>\n",
       "    </tr>\n",
       "    <tr>\n",
       "      <th>Date</th>\n",
       "      <th></th>\n",
       "      <th></th>\n",
       "      <th></th>\n",
       "      <th></th>\n",
       "      <th></th>\n",
       "      <th></th>\n",
       "    </tr>\n",
       "  </thead>\n",
       "  <tbody>\n",
       "    <tr>\n",
       "      <th>2017-01-02</th>\n",
       "      <td>56.400002</td>\n",
       "      <td>55.442001</td>\n",
       "      <td>55.745998</td>\n",
       "      <td>55.660000</td>\n",
       "      <td>57304000.0</td>\n",
       "      <td>55.660000</td>\n",
       "    </tr>\n",
       "    <tr>\n",
       "      <th>2017-04-03</th>\n",
       "      <td>77.398003</td>\n",
       "      <td>75.870003</td>\n",
       "      <td>77.337997</td>\n",
       "      <td>76.690002</td>\n",
       "      <td>86307000.0</td>\n",
       "      <td>76.690002</td>\n",
       "    </tr>\n",
       "    <tr>\n",
       "      <th>2017-07-03</th>\n",
       "      <td>77.921997</td>\n",
       "      <td>75.536003</td>\n",
       "      <td>76.050003</td>\n",
       "      <td>77.000000</td>\n",
       "      <td>96622500.0</td>\n",
       "      <td>77.000000</td>\n",
       "    </tr>\n",
       "    <tr>\n",
       "      <th>2017-10-02</th>\n",
       "      <td>72.599998</td>\n",
       "      <td>70.825996</td>\n",
       "      <td>71.396004</td>\n",
       "      <td>71.930000</td>\n",
       "      <td>98957000.0</td>\n",
       "      <td>71.930000</td>\n",
       "    </tr>\n",
       "    <tr>\n",
       "      <th>2018-01-01</th>\n",
       "      <td>72.099998</td>\n",
       "      <td>70.472000</td>\n",
       "      <td>72.000000</td>\n",
       "      <td>71.484001</td>\n",
       "      <td>105007000.0</td>\n",
       "      <td>71.484001</td>\n",
       "    </tr>\n",
       "    <tr>\n",
       "      <th>2018-04-02</th>\n",
       "      <td>74.746002</td>\n",
       "      <td>70.900002</td>\n",
       "      <td>73.031998</td>\n",
       "      <td>74.166000</td>\n",
       "      <td>111737000.0</td>\n",
       "      <td>74.166000</td>\n",
       "    </tr>\n",
       "    <tr>\n",
       "      <th>2018-07-02</th>\n",
       "      <td>77.491997</td>\n",
       "      <td>73.424004</td>\n",
       "      <td>73.818001</td>\n",
       "      <td>75.914001</td>\n",
       "      <td>168248500.0</td>\n",
       "      <td>75.914001</td>\n",
       "    </tr>\n",
       "    <tr>\n",
       "      <th>2018-10-01</th>\n",
       "      <td>75.898003</td>\n",
       "      <td>73.349998</td>\n",
       "      <td>75.000000</td>\n",
       "      <td>75.358002</td>\n",
       "      <td>137127500.0</td>\n",
       "      <td>75.358002</td>\n",
       "    </tr>\n",
       "    <tr>\n",
       "      <th>2019-01-01</th>\n",
       "      <td>70.400002</td>\n",
       "      <td>68.830002</td>\n",
       "      <td>69.241997</td>\n",
       "      <td>69.461998</td>\n",
       "      <td>120754000.0</td>\n",
       "      <td>69.461998</td>\n",
       "    </tr>\n",
       "    <tr>\n",
       "      <th>2019-04-01</th>\n",
       "      <td>59.234001</td>\n",
       "      <td>57.433998</td>\n",
       "      <td>57.660000</td>\n",
       "      <td>58.362000</td>\n",
       "      <td>132735500.0</td>\n",
       "      <td>58.362000</td>\n",
       "    </tr>\n",
       "    <tr>\n",
       "      <th>2019-07-01</th>\n",
       "      <td>53.214001</td>\n",
       "      <td>51.632000</td>\n",
       "      <td>51.834000</td>\n",
       "      <td>52.976002</td>\n",
       "      <td>112091500.0</td>\n",
       "      <td>52.976002</td>\n",
       "    </tr>\n",
       "    <tr>\n",
       "      <th>2019-10-01</th>\n",
       "      <td>87.061996</td>\n",
       "      <td>85.269997</td>\n",
       "      <td>87.000000</td>\n",
       "      <td>86.188004</td>\n",
       "      <td>150030500.0</td>\n",
       "      <td>86.188004</td>\n",
       "    </tr>\n",
       "    <tr>\n",
       "      <th>2020-01-01</th>\n",
       "      <td>193.798004</td>\n",
       "      <td>180.203995</td>\n",
       "      <td>184.699997</td>\n",
       "      <td>183.483994</td>\n",
       "      <td>304694000.0</td>\n",
       "      <td>183.483994</td>\n",
       "    </tr>\n",
       "    <tr>\n",
       "      <th>2020-04-01</th>\n",
       "      <td>217.537994</td>\n",
       "      <td>200.746002</td>\n",
       "      <td>202.556000</td>\n",
       "      <td>215.962006</td>\n",
       "      <td>162659000.0</td>\n",
       "      <td>215.962006</td>\n",
       "    </tr>\n",
       "    <tr>\n",
       "      <th>2020-07-01</th>\n",
       "      <td>502.489990</td>\n",
       "      <td>470.510010</td>\n",
       "      <td>502.140015</td>\n",
       "      <td>498.320007</td>\n",
       "      <td>194927000.0</td>\n",
       "      <td>498.320007</td>\n",
       "    </tr>\n",
       "    <tr>\n",
       "      <th>2020-10-01</th>\n",
       "      <td>718.719971</td>\n",
       "      <td>691.119995</td>\n",
       "      <td>699.989990</td>\n",
       "      <td>705.669983</td>\n",
       "      <td>222126200.0</td>\n",
       "      <td>705.669983</td>\n",
       "    </tr>\n",
       "    <tr>\n",
       "      <th>2021-01-01</th>\n",
       "      <td>900.400024</td>\n",
       "      <td>871.599976</td>\n",
       "      <td>891.380005</td>\n",
       "      <td>883.090027</td>\n",
       "      <td>89396500.0</td>\n",
       "      <td>883.090027</td>\n",
       "    </tr>\n",
       "    <tr>\n",
       "      <th>2021-04-01</th>\n",
       "      <td>780.789978</td>\n",
       "      <td>732.609985</td>\n",
       "      <td>770.700012</td>\n",
       "      <td>762.320007</td>\n",
       "      <td>49017400.0</td>\n",
       "      <td>762.320007</td>\n",
       "    </tr>\n",
       "    <tr>\n",
       "      <th>2021-07-01</th>\n",
       "      <td>799.000000</td>\n",
       "      <td>775.000000</td>\n",
       "      <td>787.200012</td>\n",
       "      <td>791.359985</td>\n",
       "      <td>33615800.0</td>\n",
       "      <td>791.359985</td>\n",
       "    </tr>\n",
       "    <tr>\n",
       "      <th>2021-10-01</th>\n",
       "      <td>1243.489990</td>\n",
       "      <td>1217.000000</td>\n",
       "      <td>1234.410034</td>\n",
       "      <td>1229.910034</td>\n",
       "      <td>62852100.0</td>\n",
       "      <td>1229.910034</td>\n",
       "    </tr>\n",
       "    <tr>\n",
       "      <th>2022-01-03</th>\n",
       "      <td>1208.000000</td>\n",
       "      <td>1136.040039</td>\n",
       "      <td>1189.550049</td>\n",
       "      <td>1199.780029</td>\n",
       "      <td>50521900.0</td>\n",
       "      <td>1199.780029</td>\n",
       "    </tr>\n",
       "  </tbody>\n",
       "</table>\n",
       "</div>"
      ],
      "text/plain": [
       "                   High          Low         Open        Close       Volume  \\\n",
       "Date                                                                          \n",
       "2017-01-02    56.400002    55.442001    55.745998    55.660000   57304000.0   \n",
       "2017-04-03    77.398003    75.870003    77.337997    76.690002   86307000.0   \n",
       "2017-07-03    77.921997    75.536003    76.050003    77.000000   96622500.0   \n",
       "2017-10-02    72.599998    70.825996    71.396004    71.930000   98957000.0   \n",
       "2018-01-01    72.099998    70.472000    72.000000    71.484001  105007000.0   \n",
       "2018-04-02    74.746002    70.900002    73.031998    74.166000  111737000.0   \n",
       "2018-07-02    77.491997    73.424004    73.818001    75.914001  168248500.0   \n",
       "2018-10-01    75.898003    73.349998    75.000000    75.358002  137127500.0   \n",
       "2019-01-01    70.400002    68.830002    69.241997    69.461998  120754000.0   \n",
       "2019-04-01    59.234001    57.433998    57.660000    58.362000  132735500.0   \n",
       "2019-07-01    53.214001    51.632000    51.834000    52.976002  112091500.0   \n",
       "2019-10-01    87.061996    85.269997    87.000000    86.188004  150030500.0   \n",
       "2020-01-01   193.798004   180.203995   184.699997   183.483994  304694000.0   \n",
       "2020-04-01   217.537994   200.746002   202.556000   215.962006  162659000.0   \n",
       "2020-07-01   502.489990   470.510010   502.140015   498.320007  194927000.0   \n",
       "2020-10-01   718.719971   691.119995   699.989990   705.669983  222126200.0   \n",
       "2021-01-01   900.400024   871.599976   891.380005   883.090027   89396500.0   \n",
       "2021-04-01   780.789978   732.609985   770.700012   762.320007   49017400.0   \n",
       "2021-07-01   799.000000   775.000000   787.200012   791.359985   33615800.0   \n",
       "2021-10-01  1243.489990  1217.000000  1234.410034  1229.910034   62852100.0   \n",
       "2022-01-03  1208.000000  1136.040039  1189.550049  1199.780029   50521900.0   \n",
       "\n",
       "              Adj Close  \n",
       "Date                     \n",
       "2017-01-02    55.660000  \n",
       "2017-04-03    76.690002  \n",
       "2017-07-03    77.000000  \n",
       "2017-10-02    71.930000  \n",
       "2018-01-01    71.484001  \n",
       "2018-04-02    74.166000  \n",
       "2018-07-02    75.914001  \n",
       "2018-10-01    75.358002  \n",
       "2019-01-01    69.461998  \n",
       "2019-04-01    58.362000  \n",
       "2019-07-01    52.976002  \n",
       "2019-10-01    86.188004  \n",
       "2020-01-01   183.483994  \n",
       "2020-04-01   215.962006  \n",
       "2020-07-01   498.320007  \n",
       "2020-10-01   705.669983  \n",
       "2021-01-01   883.090027  \n",
       "2021-04-01   762.320007  \n",
       "2021-07-01   791.359985  \n",
       "2021-10-01  1229.910034  \n",
       "2022-01-03  1199.780029  "
      ]
     },
     "execution_count": 81,
     "metadata": {},
     "output_type": "execute_result"
    }
   ],
   "source": [
    "#Business end frequency\n",
    "data.resample(rule=\"BQS\").max()"
   ]
  },
  {
   "cell_type": "code",
   "execution_count": 82,
   "id": "fdd4463d",
   "metadata": {},
   "outputs": [
    {
     "data": {
      "text/html": [
       "<div>\n",
       "<style scoped>\n",
       "    .dataframe tbody tr th:only-of-type {\n",
       "        vertical-align: middle;\n",
       "    }\n",
       "\n",
       "    .dataframe tbody tr th {\n",
       "        vertical-align: top;\n",
       "    }\n",
       "\n",
       "    .dataframe thead th {\n",
       "        text-align: right;\n",
       "    }\n",
       "</style>\n",
       "<table border=\"1\" class=\"dataframe\">\n",
       "  <thead>\n",
       "    <tr style=\"text-align: right;\">\n",
       "      <th></th>\n",
       "      <th>High</th>\n",
       "      <th>Low</th>\n",
       "      <th>Open</th>\n",
       "      <th>Close</th>\n",
       "      <th>Volume</th>\n",
       "      <th>Adj Close</th>\n",
       "    </tr>\n",
       "    <tr>\n",
       "      <th>Date</th>\n",
       "      <th></th>\n",
       "      <th></th>\n",
       "      <th></th>\n",
       "      <th></th>\n",
       "      <th></th>\n",
       "      <th></th>\n",
       "    </tr>\n",
       "  </thead>\n",
       "  <tbody>\n",
       "    <tr>\n",
       "      <th>2017-12-29</th>\n",
       "      <td>77.921997</td>\n",
       "      <td>75.870003</td>\n",
       "      <td>77.337997</td>\n",
       "      <td>77.000000</td>\n",
       "      <td>98957000.0</td>\n",
       "      <td>77.000000</td>\n",
       "    </tr>\n",
       "    <tr>\n",
       "      <th>2018-12-31</th>\n",
       "      <td>77.491997</td>\n",
       "      <td>73.424004</td>\n",
       "      <td>75.000000</td>\n",
       "      <td>75.914001</td>\n",
       "      <td>168248500.0</td>\n",
       "      <td>75.914001</td>\n",
       "    </tr>\n",
       "    <tr>\n",
       "      <th>2019-12-31</th>\n",
       "      <td>87.061996</td>\n",
       "      <td>85.269997</td>\n",
       "      <td>87.000000</td>\n",
       "      <td>86.188004</td>\n",
       "      <td>150030500.0</td>\n",
       "      <td>86.188004</td>\n",
       "    </tr>\n",
       "    <tr>\n",
       "      <th>2020-12-31</th>\n",
       "      <td>718.719971</td>\n",
       "      <td>691.119995</td>\n",
       "      <td>699.989990</td>\n",
       "      <td>705.669983</td>\n",
       "      <td>304694000.0</td>\n",
       "      <td>705.669983</td>\n",
       "    </tr>\n",
       "    <tr>\n",
       "      <th>2021-12-31</th>\n",
       "      <td>1243.489990</td>\n",
       "      <td>1217.000000</td>\n",
       "      <td>1234.410034</td>\n",
       "      <td>1229.910034</td>\n",
       "      <td>89396500.0</td>\n",
       "      <td>1229.910034</td>\n",
       "    </tr>\n",
       "    <tr>\n",
       "      <th>2022-12-30</th>\n",
       "      <td>1208.000000</td>\n",
       "      <td>1136.040039</td>\n",
       "      <td>1189.550049</td>\n",
       "      <td>1199.780029</td>\n",
       "      <td>50521900.0</td>\n",
       "      <td>1199.780029</td>\n",
       "    </tr>\n",
       "  </tbody>\n",
       "</table>\n",
       "</div>"
      ],
      "text/plain": [
       "                   High          Low         Open        Close       Volume  \\\n",
       "Date                                                                          \n",
       "2017-12-29    77.921997    75.870003    77.337997    77.000000   98957000.0   \n",
       "2018-12-31    77.491997    73.424004    75.000000    75.914001  168248500.0   \n",
       "2019-12-31    87.061996    85.269997    87.000000    86.188004  150030500.0   \n",
       "2020-12-31   718.719971   691.119995   699.989990   705.669983  304694000.0   \n",
       "2021-12-31  1243.489990  1217.000000  1234.410034  1229.910034   89396500.0   \n",
       "2022-12-30  1208.000000  1136.040039  1189.550049  1199.780029   50521900.0   \n",
       "\n",
       "              Adj Close  \n",
       "Date                     \n",
       "2017-12-29    77.000000  \n",
       "2018-12-31    75.914001  \n",
       "2019-12-31    86.188004  \n",
       "2020-12-31   705.669983  \n",
       "2021-12-31  1229.910034  \n",
       "2022-12-30  1199.780029  "
      ]
     },
     "execution_count": 82,
     "metadata": {},
     "output_type": "execute_result"
    }
   ],
   "source": [
    "data.resample(rule=\"BA\").max()"
   ]
  },
  {
   "cell_type": "code",
   "execution_count": 89,
   "id": "358dce45",
   "metadata": {},
   "outputs": [
    {
     "data": {
      "text/plain": [
       "<AxesSubplot:xlabel='Date'>"
      ]
     },
     "execution_count": 89,
     "metadata": {},
     "output_type": "execute_result"
    },
    {
     "data": {
      "image/png": "[encoded data removed]",
      "text/plain": [
       "<Figure size 432x288 with 1 Axes>"
      ]
     },
     "metadata": {
      "needs_background": "light"
     },
     "output_type": "display_data"
    }
   ],
   "source": [
    "data[\"High\"].resample(rule=\"A\").mean().plot(kind=\"bar\")"
   ]
  },
  {
   "cell_type": "code",
   "execution_count": 95,
   "id": "d1ab25fb",
   "metadata": {},
   "outputs": [
    {
     "data": {
      "text/plain": [
       "<AxesSubplot:xlabel='Date'>"
      ]
     },
     "execution_count": 95,
     "metadata": {},
     "output_type": "execute_result"
    },
    {
     "data": {
      "image/png": "[encoded data removed]",
      "text/plain": [
       "<Figure size 864x720 with 1 Axes>"
      ]
     },
     "metadata": {
      "needs_background": "light"
     },
     "output_type": "display_data"
    }
   ],
   "source": [
    "data[\"Open\"].resample(rule=\"M\").max().plot(kind=\"bar\",figsize=(12,10))"
   ]
  },
  {
   "cell_type": "code",
   "execution_count": 103,
   "id": "fa3ca893",
   "metadata": {},
   "outputs": [
    {
     "data": {
      "text/plain": [
       "Date\n",
       "2017-02-27          NaN\n",
       "2017-02-28          NaN\n",
       "2017-03-01          NaN\n",
       "2017-03-02          NaN\n",
       "2017-03-03          NaN\n",
       "2017-03-06          NaN\n",
       "2017-03-07          NaN\n",
       "2017-03-08          NaN\n",
       "2017-03-09    50.304667\n",
       "2017-03-10    50.263333\n",
       "2017-03-13    50.171111\n",
       "2017-03-14    50.243777\n",
       "2017-03-15    50.415333\n",
       "2017-03-16    50.723111\n",
       "2017-03-17    51.026000\n",
       "2017-03-20    51.262889\n",
       "2017-03-21    51.590222\n",
       "2017-03-22    51.732667\n",
       "2017-03-23    51.980889\n",
       "2017-03-24    52.359556\n",
       "Name: High, dtype: float64"
      ]
     },
     "execution_count": 103,
     "metadata": {},
     "output_type": "execute_result"
    }
   ],
   "source": [
    "data[\"High\"].rolling(9).mean()[:20]"
   ]
  },
  {
   "cell_type": "code",
   "execution_count": 105,
   "id": "bba36037",
   "metadata": {},
   "outputs": [],
   "source": [
    "data[\"Open:30 days roll\"]=data[\"Open\"].rolling(30).mean()"
   ]
  },
  {
   "cell_type": "code",
   "execution_count": 106,
   "id": "2d9f7e93",
   "metadata": {},
   "outputs": [
    {
     "data": {
      "text/html": [
       "<div>\n",
       "<style scoped>\n",
       "    .dataframe tbody tr th:only-of-type {\n",
       "        vertical-align: middle;\n",
       "    }\n",
       "\n",
       "    .dataframe tbody tr th {\n",
       "        vertical-align: top;\n",
       "    }\n",
       "\n",
       "    .dataframe thead th {\n",
       "        text-align: right;\n",
       "    }\n",
       "</style>\n",
       "<table border=\"1\" class=\"dataframe\">\n",
       "  <thead>\n",
       "    <tr style=\"text-align: right;\">\n",
       "      <th></th>\n",
       "      <th>High</th>\n",
       "      <th>Low</th>\n",
       "      <th>Open</th>\n",
       "      <th>Close</th>\n",
       "      <th>Volume</th>\n",
       "      <th>Adj Close</th>\n",
       "      <th>Open:30 days roll</th>\n",
       "    </tr>\n",
       "    <tr>\n",
       "      <th>Date</th>\n",
       "      <th></th>\n",
       "      <th></th>\n",
       "      <th></th>\n",
       "      <th></th>\n",
       "      <th></th>\n",
       "      <th></th>\n",
       "      <th></th>\n",
       "    </tr>\n",
       "  </thead>\n",
       "  <tbody>\n",
       "    <tr>\n",
       "      <th>2017-02-27</th>\n",
       "      <td>49.672001</td>\n",
       "      <td>48.402000</td>\n",
       "      <td>49.633999</td>\n",
       "      <td>49.245998</td>\n",
       "      <td>57304000.0</td>\n",
       "      <td>49.245998</td>\n",
       "      <td>NaN</td>\n",
       "    </tr>\n",
       "    <tr>\n",
       "      <th>2017-02-28</th>\n",
       "      <td>50.200001</td>\n",
       "      <td>48.779999</td>\n",
       "      <td>48.838001</td>\n",
       "      <td>49.998001</td>\n",
       "      <td>30390500.0</td>\n",
       "      <td>49.998001</td>\n",
       "      <td>NaN</td>\n",
       "    </tr>\n",
       "    <tr>\n",
       "      <th>2017-03-01</th>\n",
       "      <td>50.970001</td>\n",
       "      <td>49.821999</td>\n",
       "      <td>50.835999</td>\n",
       "      <td>50.004002</td>\n",
       "      <td>24047500.0</td>\n",
       "      <td>50.004002</td>\n",
       "      <td>NaN</td>\n",
       "    </tr>\n",
       "    <tr>\n",
       "      <th>2017-03-02</th>\n",
       "      <td>50.655998</td>\n",
       "      <td>49.653999</td>\n",
       "      <td>49.942001</td>\n",
       "      <td>50.096001</td>\n",
       "      <td>16759000.0</td>\n",
       "      <td>50.096001</td>\n",
       "      <td>NaN</td>\n",
       "    </tr>\n",
       "    <tr>\n",
       "      <th>2017-03-03</th>\n",
       "      <td>50.380001</td>\n",
       "      <td>49.799999</td>\n",
       "      <td>50.147999</td>\n",
       "      <td>50.313999</td>\n",
       "      <td>14597000.0</td>\n",
       "      <td>50.313999</td>\n",
       "      <td>NaN</td>\n",
       "    </tr>\n",
       "  </tbody>\n",
       "</table>\n",
       "</div>"
      ],
      "text/plain": [
       "                 High        Low       Open      Close      Volume  Adj Close  \\\n",
       "Date                                                                            \n",
       "2017-02-27  49.672001  48.402000  49.633999  49.245998  57304000.0  49.245998   \n",
       "2017-02-28  50.200001  48.779999  48.838001  49.998001  30390500.0  49.998001   \n",
       "2017-03-01  50.970001  49.821999  50.835999  50.004002  24047500.0  50.004002   \n",
       "2017-03-02  50.655998  49.653999  49.942001  50.096001  16759000.0  50.096001   \n",
       "2017-03-03  50.380001  49.799999  50.147999  50.313999  14597000.0  50.313999   \n",
       "\n",
       "            Open:30 days roll  \n",
       "Date                           \n",
       "2017-02-27                NaN  \n",
       "2017-02-28                NaN  \n",
       "2017-03-01                NaN  \n",
       "2017-03-02                NaN  \n",
       "2017-03-03                NaN  "
      ]
     },
     "execution_count": 106,
     "metadata": {},
     "output_type": "execute_result"
    }
   ],
   "source": [
    "data.head()"
   ]
  },
  {
   "cell_type": "code",
   "execution_count": 108,
   "id": "f1a00e61",
   "metadata": {},
   "outputs": [
    {
     "data": {
      "text/plain": [
       "<AxesSubplot:xlabel='Date'>"
      ]
     },
     "execution_count": 108,
     "metadata": {},
     "output_type": "execute_result"
    },
    {
     "data": {
      "image/png": "[encoded data removed]",
      "text/plain": [
       "<Figure size 432x288 with 1 Axes>"
      ]
     },
     "metadata": {
      "needs_background": "light"
     },
     "output_type": "display_data"
    }
   ],
   "source": [
    "data[[\"Open\",\"Open:30 days roll\"]].plot()"
   ]
  },
  {
   "cell_type": "markdown",
   "id": "0735dc4e",
   "metadata": {},
   "source": [
    "#ASSIGNMENT                                      \n",
    "1.read the ms data                                 \n",
    "2.max price                                      \n",
    "3.date of highest price of stock                   \n",
    "4.lowest price of stock                "
   ]
  },
  {
   "cell_type": "code",
   "execution_count": 143,
   "id": "dcee21e1",
   "metadata": {},
   "outputs": [],
   "source": [
    "#ASSIGNMENT START"
   ]
  },
  {
   "cell_type": "code",
   "execution_count": 109,
   "id": "e66ffcd2",
   "metadata": {},
   "outputs": [],
   "source": [
    "data=pdr.get_data_yahoo(\"MSFT\")"
   ]
  },
  {
   "cell_type": "code",
   "execution_count": 110,
   "id": "5c8c3a61",
   "metadata": {},
   "outputs": [
    {
     "data": {
      "text/html": [
       "<div>\n",
       "<style scoped>\n",
       "    .dataframe tbody tr th:only-of-type {\n",
       "        vertical-align: middle;\n",
       "    }\n",
       "\n",
       "    .dataframe tbody tr th {\n",
       "        vertical-align: top;\n",
       "    }\n",
       "\n",
       "    .dataframe thead th {\n",
       "        text-align: right;\n",
       "    }\n",
       "</style>\n",
       "<table border=\"1\" class=\"dataframe\">\n",
       "  <thead>\n",
       "    <tr style=\"text-align: right;\">\n",
       "      <th></th>\n",
       "      <th>High</th>\n",
       "      <th>Low</th>\n",
       "      <th>Open</th>\n",
       "      <th>Close</th>\n",
       "      <th>Volume</th>\n",
       "      <th>Adj Close</th>\n",
       "    </tr>\n",
       "    <tr>\n",
       "      <th>Date</th>\n",
       "      <th></th>\n",
       "      <th></th>\n",
       "      <th></th>\n",
       "      <th></th>\n",
       "      <th></th>\n",
       "      <th></th>\n",
       "    </tr>\n",
       "  </thead>\n",
       "  <tbody>\n",
       "    <tr>\n",
       "      <th>2017-02-27</th>\n",
       "      <td>64.540001</td>\n",
       "      <td>64.050003</td>\n",
       "      <td>64.540001</td>\n",
       "      <td>64.230003</td>\n",
       "      <td>15871500.0</td>\n",
       "      <td>59.957737</td>\n",
       "    </tr>\n",
       "    <tr>\n",
       "      <th>2017-02-28</th>\n",
       "      <td>64.199997</td>\n",
       "      <td>63.759998</td>\n",
       "      <td>64.080002</td>\n",
       "      <td>63.980000</td>\n",
       "      <td>23239800.0</td>\n",
       "      <td>59.724350</td>\n",
       "    </tr>\n",
       "    <tr>\n",
       "      <th>2017-03-01</th>\n",
       "      <td>64.989998</td>\n",
       "      <td>64.019997</td>\n",
       "      <td>64.129997</td>\n",
       "      <td>64.940002</td>\n",
       "      <td>26937500.0</td>\n",
       "      <td>60.620506</td>\n",
       "    </tr>\n",
       "    <tr>\n",
       "      <th>2017-03-02</th>\n",
       "      <td>64.750000</td>\n",
       "      <td>63.880001</td>\n",
       "      <td>64.690002</td>\n",
       "      <td>64.010002</td>\n",
       "      <td>24539600.0</td>\n",
       "      <td>59.752361</td>\n",
       "    </tr>\n",
       "    <tr>\n",
       "      <th>2017-03-03</th>\n",
       "      <td>64.279999</td>\n",
       "      <td>63.619999</td>\n",
       "      <td>63.990002</td>\n",
       "      <td>64.250000</td>\n",
       "      <td>18135900.0</td>\n",
       "      <td>59.976402</td>\n",
       "    </tr>\n",
       "  </tbody>\n",
       "</table>\n",
       "</div>"
      ],
      "text/plain": [
       "                 High        Low       Open      Close      Volume  Adj Close\n",
       "Date                                                                         \n",
       "2017-02-27  64.540001  64.050003  64.540001  64.230003  15871500.0  59.957737\n",
       "2017-02-28  64.199997  63.759998  64.080002  63.980000  23239800.0  59.724350\n",
       "2017-03-01  64.989998  64.019997  64.129997  64.940002  26937500.0  60.620506\n",
       "2017-03-02  64.750000  63.880001  64.690002  64.010002  24539600.0  59.752361\n",
       "2017-03-03  64.279999  63.619999  63.990002  64.250000  18135900.0  59.976402"
      ]
     },
     "execution_count": 110,
     "metadata": {},
     "output_type": "execute_result"
    }
   ],
   "source": [
    "data.head()"
   ]
  },
  {
   "cell_type": "code",
   "execution_count": 113,
   "id": "689f5996",
   "metadata": {},
   "outputs": [
    {
     "data": {
      "text/plain": [
       "High              64.200\n",
       "Low               63.620\n",
       "Open              63.970\n",
       "Close             63.980\n",
       "Volume       7425600.000\n",
       "Adj Close         59.724\n",
       "dtype: float64"
      ]
     },
     "execution_count": 113,
     "metadata": {},
     "output_type": "execute_result"
    }
   ],
   "source": [
    "data.min().round(3)"
   ]
  },
  {
   "cell_type": "code",
   "execution_count": 118,
   "id": "2dadd17d",
   "metadata": {},
   "outputs": [
    {
     "data": {
      "text/plain": [
       "High               349.7\n",
       "Low                342.2\n",
       "Open               344.6\n",
       "Close              343.1\n",
       "Volume       111242100.0\n",
       "Adj Close          342.4\n",
       "dtype: float64"
      ]
     },
     "execution_count": 118,
     "metadata": {},
     "output_type": "execute_result"
    }
   ],
   "source": [
    "data.max().round(1)"
   ]
  },
  {
   "cell_type": "code",
   "execution_count": 125,
   "id": "a3ef0ad0",
   "metadata": {},
   "outputs": [
    {
     "data": {
      "image/png": "[encoded data removed]",
      "text/plain": [
       "<Figure size 432x288 with 1 Axes>"
      ]
     },
     "metadata": {
      "needs_background": "light"
     },
     "output_type": "display_data"
    }
   ],
   "source": [
    "fig,ax=plt.subplots()\n",
    "ax.plot(data)\n",
    "plt.tight_layout()\n",
    "fig.autofmt_xdate()"
   ]
  },
  {
   "cell_type": "code",
   "execution_count": 128,
   "id": "cadf8754",
   "metadata": {},
   "outputs": [],
   "source": [
    "data.reset_index(inplace=True)"
   ]
  },
  {
   "cell_type": "code",
   "execution_count": 138,
   "id": "e0d48662",
   "metadata": {},
   "outputs": [
    {
     "data": {
      "text/html": [
       "<div>\n",
       "<style scoped>\n",
       "    .dataframe tbody tr th:only-of-type {\n",
       "        vertical-align: middle;\n",
       "    }\n",
       "\n",
       "    .dataframe tbody tr th {\n",
       "        vertical-align: top;\n",
       "    }\n",
       "\n",
       "    .dataframe thead th {\n",
       "        text-align: right;\n",
       "    }\n",
       "</style>\n",
       "<table border=\"1\" class=\"dataframe\">\n",
       "  <thead>\n",
       "    <tr style=\"text-align: right;\">\n",
       "      <th></th>\n",
       "      <th>index</th>\n",
       "      <th>0</th>\n",
       "    </tr>\n",
       "  </thead>\n",
       "  <tbody>\n",
       "    <tr>\n",
       "      <th>0</th>\n",
       "      <td>High</td>\n",
       "      <td>349.670013</td>\n",
       "    </tr>\n",
       "    <tr>\n",
       "      <th>1</th>\n",
       "      <td>Date</td>\n",
       "      <td>2022-02-25 00:00:00</td>\n",
       "    </tr>\n",
       "  </tbody>\n",
       "</table>\n",
       "</div>"
      ],
      "text/plain": [
       "  index                    0\n",
       "0  High           349.670013\n",
       "1  Date  2022-02-25 00:00:00"
      ]
     },
     "execution_count": 138,
     "metadata": {},
     "output_type": "execute_result"
    }
   ],
   "source": [
    "data[[\"High\",\"Date\"]].max().reset_index()"
   ]
  },
  {
   "cell_type": "code",
   "execution_count": 142,
   "id": "d1dad117",
   "metadata": {},
   "outputs": [
    {
     "data": {
      "text/html": [
       "<div>\n",
       "<style scoped>\n",
       "    .dataframe tbody tr th:only-of-type {\n",
       "        vertical-align: middle;\n",
       "    }\n",
       "\n",
       "    .dataframe tbody tr th {\n",
       "        vertical-align: top;\n",
       "    }\n",
       "\n",
       "    .dataframe thead th {\n",
       "        text-align: right;\n",
       "    }\n",
       "</style>\n",
       "<table border=\"1\" class=\"dataframe\">\n",
       "  <thead>\n",
       "    <tr style=\"text-align: right;\">\n",
       "      <th></th>\n",
       "      <th>index</th>\n",
       "      <th>0</th>\n",
       "    </tr>\n",
       "  </thead>\n",
       "  <tbody>\n",
       "    <tr>\n",
       "      <th>0</th>\n",
       "      <td>Low</td>\n",
       "      <td>342.200012</td>\n",
       "    </tr>\n",
       "    <tr>\n",
       "      <th>1</th>\n",
       "      <td>Date</td>\n",
       "      <td>2022-02-25 00:00:00</td>\n",
       "    </tr>\n",
       "  </tbody>\n",
       "</table>\n",
       "</div>"
      ],
      "text/plain": [
       "  index                    0\n",
       "0   Low           342.200012\n",
       "1  Date  2022-02-25 00:00:00"
      ]
     },
     "execution_count": 142,
     "metadata": {},
     "output_type": "execute_result"
    }
   ],
   "source": [
    "data[[\"Low\",\"Date\"]].max().reset_index()"
   ]
  },
  {
   "cell_type": "code",
   "execution_count": 144,
   "id": "915a04c4",
   "metadata": {},
   "outputs": [],
   "source": [
    "#ASSIGNMENT END"
   ]
  }
 ],
 "metadata": {
  "kernelspec": {
   "display_name": "Python 3",
   "language": "python",
   "name": "python3"
  },
  "language_info": {
   "codemirror_mode": {
    "name": "ipython",
    "version": 3
   },
   "file_extension": ".py",
   "mimetype": "text/x-python",
   "name": "python",
   "nbconvert_exporter": "python",
   "pygments_lexer": "ipython3",
   "version": "3.8.8"
  }
 },
 "nbformat": 4,
 "nbformat_minor": 5
}
